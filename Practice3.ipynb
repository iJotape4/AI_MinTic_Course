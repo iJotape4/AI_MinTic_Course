{
 "cells": [
  {
   "cell_type": "code",
   "execution_count": 1,
   "id": "09c75757-afa2-4051-97fe-c6f827439692",
   "metadata": {},
   "outputs": [
    {
     "name": "stderr",
     "output_type": "stream",
     "text": [
      "[nltk_data] Downloading package vader_lexicon to\n",
      "[nltk_data]     C:\\Users\\Personal\\AppData\\Roaming\\nltk_data...\n",
      "[nltk_data]   Package vader_lexicon is already up-to-date!\n"
     ]
    }
   ],
   "source": [
    "from nltk.sentiment import SentimentIntensityAnalyzer\n",
    "from googletrans import Translator\n",
    "\n",
    "import nltk\n",
    "\n",
    "try:\n",
    "    nltk.data.find('sentiment/vader_lexicon')\n",
    "except LookupError:\n",
    "    nltk.download('vader_lexicon')\n"
   ]
  },
  {
   "cell_type": "code",
   "execution_count": 2,
   "id": "ec47e897",
   "metadata": {},
   "outputs": [],
   "source": [
    "from flask import Flask, request, jsonify, render_template, send_file\n",
    "import pandas as pd \n",
    "import os\n",
    "from io import BytesIO\n",
    "import tempfile"
   ]
  },
  {
   "cell_type": "code",
   "execution_count": 3,
   "id": "98753dd5-d54c-4ddb-9189-9606c7d14812",
   "metadata": {},
   "outputs": [],
   "source": [
    "app = Flask(__name__)\n",
    "sia = SentimentIntensityAnalyzer()\n",
    "translator = Translator()"
   ]
  },
  {
   "cell_type": "code",
   "execution_count": 4,
   "id": "fa6aec03-c58b-4b58-896d-a54e363026fc",
   "metadata": {},
   "outputs": [],
   "source": [
    "def analyze_sentiment_spanish(text):\n",
    "    try: \n",
    "        translation = translator.translate(text, src='es', dest= 'en')\n",
    "        sentiment = sia.polarity_scores(translation.text)\n",
    "        return sentiment, translation.text, None\n",
    "    except Exception as e:\n",
    "        print(f\"Error analyzing sentiment: {e}\")\n",
    "        return None, None, str(e)"
   ]
  },
  {
   "cell_type": "code",
   "execution_count": 5,
   "id": "3219ca0f-b102-4bb4-9c78-0458945d502c",
   "metadata": {},
   "outputs": [],
   "source": [
    "def interpret_feeling(sentiment):\n",
    "    compound = sentiment['compound']\n",
    "\n",
    "    emotion = \"😐 Neutral\"\n",
    "    \n",
    "    if compound >= 0.05:\n",
    "        emotion = \"😃 Positive\"\n",
    "    elif compound <= -0.05:\n",
    "        emotion = \"😒 Negative\"\n",
    "\n",
    "    category = emotion.split(\" \")[1].lower()\n",
    "    return emotion, category"
   ]
  },
  {
   "cell_type": "code",
   "execution_count": 6,
   "id": "0810cbef",
   "metadata": {},
   "outputs": [],
   "source": [
    "def analyze_excel_file(file_path):\n",
    "    \"\"\"Analyze an Excel file and return the results.\n",
    "\n",
    "    Returns a tuple `(results, error_message)` where `results` is a list of\n",
    "    dictionaries with analysis for each found text cell, or `None` and an\n",
    "    error string if something went wrong.\n",
    "    \"\"\"\n",
    "    try:\n",
    "        # Read the Excel file\n",
    "        df = pd.read_excel(file_path)\n",
    "\n",
    "        results = []\n",
    "\n",
    "        # Find columns that likely contain textual content\n",
    "        text_columns = []\n",
    "        for column in df.columns:\n",
    "            # Check if the column is object dtype and has sample text values\n",
    "            if df[column].dtype == 'object' and any(isinstance(x, str) and len(x) > 10 for x in df[column].dropna()[:5]):\n",
    "                text_columns.append(column)\n",
    "\n",
    "        if not text_columns:\n",
    "            return None, \"No text columns found to analyze\"\n",
    "\n",
    "        # Analyze each row and text column\n",
    "        for idx, row in df.iterrows():\n",
    "            for column in text_columns:\n",
    "                text = str(row[column]) if pd.notna(row[column]) else \"\"\n",
    "\n",
    "                if len(text.strip()) > 10:  # only analyze meaningful text\n",
    "                    sentiment, translation, error = analyze_sentiment_spanish(text)\n",
    "\n",
    "                    if error is None:\n",
    "                        emotion, category = interpret_feeling(sentiment)\n",
    "\n",
    "                        results.append({\n",
    "                            'row': idx + 1,\n",
    "                            'column': column,\n",
    "                            'original_text': text[:200] + \"...\" if len(text) > 200 else text,\n",
    "                            'translated_text': translation,\n",
    "                            'negative': f\"{sentiment['neg'] * 100:.1f}%\",\n",
    "                            'neutral': f\"{sentiment['neu'] * 100:.1f}%\",\n",
    "                            'positive': f\"{sentiment['pos'] * 100:.1f}%\",\n",
    "                            'compound': f\"{sentiment['compound']:.4f}\",\n",
    "                            'sentiment': emotion,\n",
    "                            'category': category\n",
    "                        })\n",
    "\n",
    "        return results, None\n",
    "\n",
    "    except Exception as e:\n",
    "        return None, f\"Error processing file: {str(e)}\""
   ]
  },
  {
   "cell_type": "code",
   "execution_count": 7,
   "id": "1c5f1411",
   "metadata": {},
   "outputs": [],
   "source": [
    "@app.route('/')\n",
    "def index():\n",
    "    \"\"\"Página principal\"\"\"\n",
    "    return render_template('index.html')"
   ]
  },
  {
   "cell_type": "code",
   "execution_count": 8,
   "id": "661b2c97",
   "metadata": {},
   "outputs": [],
   "source": [
    "@app.route('/analyze', methods=['POST'])\n",
    "def analyze_text():\n",
    "    \"\"\"Endpoint to analyze a single text string (expects JSON with key 'text').\"\"\"\n",
    "    try:\n",
    "        data = request.get_json() or {}\n",
    "        text = data.get('text', '').strip()\n",
    "\n",
    "        if not text:\n",
    "            return jsonify({'error': 'No text provided'}), 400\n",
    "\n",
    "        sentiment, translation, error = analyze_sentiment_spanish(text)\n",
    "\n",
    "        if error:\n",
    "            return jsonify({'error': error}), 500\n",
    "\n",
    "        emotion, category = interpret_feeling(sentiment)\n",
    "\n",
    "        result = {\n",
    "            'original_text': text,\n",
    "            'translated_text': translation,\n",
    "            'analysis': {\n",
    "                'negative': f\"{sentiment['neg'] * 100:.1f}%\",\n",
    "                'neutral': f\"{sentiment['neu'] * 100:.1f}%\",\n",
    "                'positive': f\"{sentiment['pos'] * 100:.1f}%\",\n",
    "                'compound': sentiment['compound'],\n",
    "                'sentiment': emotion,\n",
    "                'category': category\n",
    "            }\n",
    "        }\n",
    "\n",
    "        return jsonify(result)\n",
    "\n",
    "    except Exception as e:\n",
    "        return jsonify({'error': str(e)}), 500"
   ]
  },
  {
   "cell_type": "code",
   "execution_count": 9,
   "id": "102e5835",
   "metadata": {},
   "outputs": [],
   "source": [
    "@app.route('/analyze-excel', methods=['POST'])\n",
    "def analyze_excel():\n",
    "    \"\"\"Endpoint to analyze an uploaded Excel file (multipart form-data, key 'file').\"\"\"\n",
    "    try:\n",
    "        if 'file' not in request.files:\n",
    "            return jsonify({'error': 'No file uploaded'}), 400\n",
    "\n",
    "        file = request.files['file']\n",
    "\n",
    "        if file.filename == '':\n",
    "            return jsonify({'error': 'No file selected'}), 400\n",
    "\n",
    "        if not file.filename.lower().endswith(('.xls', '.xlsx')):\n",
    "            return jsonify({'error': 'File must be an Excel file (.xls or .xlsx)'}), 400\n",
    "\n",
    "        # Save the uploaded file to a temporary location\n",
    "        with tempfile.NamedTemporaryFile(delete=False, suffix='.xlsx') as temp_file:\n",
    "            file.save(temp_file.name)\n",
    "            temp_path = temp_file.name\n",
    "\n",
    "        # Analyze the file using the existing function\n",
    "        results, error = analyze_excel_file(temp_path)\n",
    "\n",
    "        # Clean up the temporary file\n",
    "        try:\n",
    "            os.unlink(temp_path)\n",
    "        except Exception:\n",
    "            pass\n",
    "\n",
    "        if error:\n",
    "            return jsonify({'error': error}), 500\n",
    "\n",
    "        # Build summary\n",
    "        total_analyzed = len(results)\n",
    "        categories = {\n",
    "            'positive': len([r for r in results if r.get('category') == 'positive']),\n",
    "            'negative': len([r for r in results if r.get('category') == 'negative']),\n",
    "            'neutral': len([r for r in results if r.get('category') == 'neutral'])\n",
    "        }\n",
    "\n",
    "        return jsonify({\n",
    "            'total_analyzed': total_analyzed,\n",
    "            'category_summary': categories,\n",
    "            'results': results\n",
    "        })\n",
    "\n",
    "    except Exception as e:\n",
    "        return jsonify({'error': str(e)}), 500"
   ]
  },
  {
   "cell_type": "code",
   "execution_count": 10,
   "id": "75544632",
   "metadata": {},
   "outputs": [],
   "source": [
    "@app.route('/download-template')\n",
    "def download_template():\n",
    "    \"\"\"Download an example Excel template containing sample text rows and instructions.\"\"\"\n",
    "    # Create a sample DataFrame with example comments/reviews\n",
    "    example_data = {\n",
    "        'Comments': [\n",
    "            \"I love this product, it's excellent!\",\n",
    "            \"I'm not satisfied with the quality\",\n",
    "            \"The service was acceptable, but could improve\",\n",
    "            \"Amazing! I will definitely recommend it\",\n",
    "            \"Doesn't meet my expectations\"\n",
    "        ],\n",
    "        'Reviews': [\n",
    "            \"The product arrived on time and in good condition\",\n",
    "            \"Poor customer service, very disappointed\",\n",
    "            \"Works correctly, serves its purpose\",\n",
    "            \"Terrible quality, I don't recommend it\",\n",
    "            \"Excellent value for money\"\n",
    "        ]\n",
    "    }\n",
    "\n",
    "    df = pd.DataFrame(example_data)\n",
    "\n",
    "    # Create an in-memory Excel file with a data sheet and an instructions sheet\n",
    "    output = BytesIO()\n",
    "    with pd.ExcelWriter(output, engine='openpyxl') as writer:\n",
    "        df.to_excel(writer, sheet_name='Data', index=False)\n",
    "\n",
    "        # Add an instructions sheet (English)\n",
    "        instructions = pd.DataFrame({\n",
    "            'Instructions': [\n",
    "                '1. Add your text in any column',\n",
    "                '2. Columns with long text will be detected automatically',\n",
    "                '3. Save the file and upload it to the application',\n",
    "                '4. The system will analyze all detected texts automatically',\n",
    "                '5. You may use multiple columns if needed'\n",
    "            ]\n",
    "        })\n",
    "        instructions.to_excel(writer, sheet_name='Instructions', index=False)\n",
    "\n",
    "    output.seek(0)\n",
    "\n",
    "    return send_file(\n",
    "        output,\n",
    "        mimetype='application/vnd.openxmlformats-officedocument.spreadsheetml.sheet',\n",
    "        as_attachment=True,\n",
    "        download_name='sentiment_analysis_template.xlsx'\n",
    "    )"
   ]
  },
  {
   "cell_type": "code",
   "execution_count": 11,
   "id": "eb98e159",
   "metadata": {},
   "outputs": [],
   "source": [
    "@app.route('/health')\n",
    "def health_check():\n",
    "    \"\"\"Health check endpoint for the service.\"\"\"\n",
    "    return jsonify({\n",
    "        'status': 'running',\n",
    "        'service': 'Sentiment Analyzer',\n",
    "        'version': '1.0'\n",
    "    })"
   ]
  },
  {
   "cell_type": "code",
   "execution_count": null,
   "id": "1f772e62",
   "metadata": {},
   "outputs": [
    {
     "name": "stdout",
     "output_type": "stream",
     "text": [
      "🚀 Sentiment Analyzer server started!\n",
      "📊 Available endpoints:\n",
      "   - GET  / -> Web interface\n",
      "   - POST /analyze -> Analyze single text\n",
      "   - POST /analyze-excel -> Analyze Excel file\n",
      "   - GET  /download-template -> Download template\n",
      "   - GET  /health -> Service health\n",
      "\n",
      "📍 Server running at: http://localhost:5000\n",
      " * Serving Flask app '__main__'\n",
      " * Debug mode: on\n"
     ]
    },
    {
     "name": "stderr",
     "output_type": "stream",
     "text": [
      "WARNING: This is a development server. Do not use it in a production deployment. Use a production WSGI server instead.\n",
      " * Running on all addresses (0.0.0.0)\n",
      " * Running on http://127.0.0.1:5000\n",
      " * Running on http://192.168.80.14:5000\n",
      "Press CTRL+C to quit\n",
      "127.0.0.1 - - [23/Sep/2025 20:55:04] \"GET / HTTP/1.1\" 200 -\n",
      "127.0.0.1 - - [23/Sep/2025 20:55:20] \"POST /analyze-excel HTTP/1.1\" 200 -\n"
     ]
    }
   ],
   "source": [
    "if __name__ == '__main__':\n",
    "    print(\"🚀 Sentiment Analyzer server started!\")\n",
    "    print(\"📊 Available endpoints:\")\n",
    "    print(\"   - GET  / -> Web interface\")\n",
    "    print(\"   - POST /analyze -> Analyze single text\")\n",
    "    print(\"   - POST /analyze-excel -> Analyze Excel file\")\n",
    "    print(\"   - GET  /download-template -> Download template\")\n",
    "    print(\"   - GET  /health -> Service health\")\n",
    "    print(\"\\n📍 Server running at: http://localhost:5000\")\n",
    "    # run without the reloader in notebooks to prevent SystemExit from the reloader\n",
    "    app.run(debug=True, host='0.0.0.0', port=5000, use_reloader=False)"
   ]
  },
  {
   "cell_type": "code",
   "execution_count": null,
   "id": "8e78ecff",
   "metadata": {},
   "outputs": [
    {
     "ename": "SystemExit",
     "evalue": "1",
     "output_type": "error",
     "traceback": [
      "\u001b[1;31m---------------------------------------------------------------------------\u001b[0m",
      "\u001b[1;31mSystemExit\u001b[0m                                Traceback (most recent call last)",
      "Cell \u001b[1;32mIn[57], line 11\u001b[0m\n\u001b[0;32m      8\u001b[0m     \u001b[38;5;28mprint\u001b[39m(\u001b[38;5;124m\"\u001b[39m\u001b[38;5;124m   - GET  /health -> Service health\u001b[39m\u001b[38;5;124m\"\u001b[39m)\n\u001b[0;32m      9\u001b[0m     \u001b[38;5;28mprint\u001b[39m(\u001b[38;5;124m\"\u001b[39m\u001b[38;5;130;01m\\n\u001b[39;00m\u001b[38;5;124m📍 Server running at: http://localhost:5000\u001b[39m\u001b[38;5;124m\"\u001b[39m)\n\u001b[1;32m---> 11\u001b[0m     \u001b[43mapp\u001b[49m\u001b[38;5;241;43m.\u001b[39;49m\u001b[43mrun\u001b[49m\u001b[43m(\u001b[49m\u001b[43mdebug\u001b[49m\u001b[38;5;241;43m=\u001b[39;49m\u001b[38;5;28;43;01mTrue\u001b[39;49;00m\u001b[43m,\u001b[49m\u001b[43m \u001b[49m\u001b[43mhost\u001b[49m\u001b[38;5;241;43m=\u001b[39;49m\u001b[38;5;124;43m'\u001b[39;49m\u001b[38;5;124;43m0.0.0.0\u001b[39;49m\u001b[38;5;124;43m'\u001b[39;49m\u001b[43m,\u001b[49m\u001b[43m \u001b[49m\u001b[43mport\u001b[49m\u001b[38;5;241;43m=\u001b[39;49m\u001b[38;5;241;43m5000\u001b[39;49m\u001b[43m)\u001b[49m\n\u001b[0;32m     13\u001b[0m get_ipython()\u001b[38;5;241m.\u001b[39mrun_line_magic(\u001b[38;5;124m'\u001b[39m\u001b[38;5;124mtb\u001b[39m\u001b[38;5;124m'\u001b[39m, \u001b[38;5;124m'\u001b[39m\u001b[38;5;124m'\u001b[39m)\n",
      "File \u001b[1;32md:\\Repositories\\AI_MinTic_Course\\semantics\\lib\\site-packages\\flask\\app.py:662\u001b[0m, in \u001b[0;36mFlask.run\u001b[1;34m(self, host, port, debug, load_dotenv, **options)\u001b[0m\n\u001b[0;32m    659\u001b[0m \u001b[38;5;28;01mfrom\u001b[39;00m\u001b[38;5;250m \u001b[39m\u001b[38;5;21;01mwerkzeug\u001b[39;00m\u001b[38;5;21;01m.\u001b[39;00m\u001b[38;5;21;01mserving\u001b[39;00m\u001b[38;5;250m \u001b[39m\u001b[38;5;28;01mimport\u001b[39;00m run_simple\n\u001b[0;32m    661\u001b[0m \u001b[38;5;28;01mtry\u001b[39;00m:\n\u001b[1;32m--> 662\u001b[0m     run_simple(t\u001b[38;5;241m.\u001b[39mcast(\u001b[38;5;28mstr\u001b[39m, host), port, \u001b[38;5;28mself\u001b[39m, \u001b[38;5;241m*\u001b[39m\u001b[38;5;241m*\u001b[39moptions)\n\u001b[0;32m    663\u001b[0m \u001b[38;5;28;01mfinally\u001b[39;00m:\n\u001b[0;32m    664\u001b[0m     \u001b[38;5;66;03m# reset the first request information if the development server\u001b[39;00m\n\u001b[0;32m    665\u001b[0m     \u001b[38;5;66;03m# reset normally.  This makes it possible to restart the server\u001b[39;00m\n\u001b[0;32m    666\u001b[0m     \u001b[38;5;66;03m# without reloader and that stuff from an interactive shell.\u001b[39;00m\n\u001b[0;32m    667\u001b[0m     \u001b[38;5;28mself\u001b[39m\u001b[38;5;241m.\u001b[39m_got_first_request \u001b[38;5;241m=\u001b[39m \u001b[38;5;28;01mFalse\u001b[39;00m\n",
      "File \u001b[1;32md:\\Repositories\\AI_MinTic_Course\\semantics\\lib\\site-packages\\werkzeug\\serving.py:1115\u001b[0m, in \u001b[0;36mrun_simple\u001b[1;34m(hostname, port, application, use_reloader, use_debugger, use_evalex, extra_files, exclude_patterns, reloader_interval, reloader_type, threaded, processes, request_handler, static_files, passthrough_errors, ssl_context)\u001b[0m\n\u001b[0;32m   1112\u001b[0m \u001b[38;5;28;01mfrom\u001b[39;00m\u001b[38;5;250m \u001b[39m\u001b[38;5;21;01m.\u001b[39;00m\u001b[38;5;21;01m_reloader\u001b[39;00m\u001b[38;5;250m \u001b[39m\u001b[38;5;28;01mimport\u001b[39;00m run_with_reloader\n\u001b[0;32m   1114\u001b[0m \u001b[38;5;28;01mtry\u001b[39;00m:\n\u001b[1;32m-> 1115\u001b[0m     \u001b[43mrun_with_reloader\u001b[49m\u001b[43m(\u001b[49m\n\u001b[0;32m   1116\u001b[0m \u001b[43m        \u001b[49m\u001b[43msrv\u001b[49m\u001b[38;5;241;43m.\u001b[39;49m\u001b[43mserve_forever\u001b[49m\u001b[43m,\u001b[49m\n\u001b[0;32m   1117\u001b[0m \u001b[43m        \u001b[49m\u001b[43mextra_files\u001b[49m\u001b[38;5;241;43m=\u001b[39;49m\u001b[43mextra_files\u001b[49m\u001b[43m,\u001b[49m\n\u001b[0;32m   1118\u001b[0m \u001b[43m        \u001b[49m\u001b[43mexclude_patterns\u001b[49m\u001b[38;5;241;43m=\u001b[39;49m\u001b[43mexclude_patterns\u001b[49m\u001b[43m,\u001b[49m\n\u001b[0;32m   1119\u001b[0m \u001b[43m        \u001b[49m\u001b[43minterval\u001b[49m\u001b[38;5;241;43m=\u001b[39;49m\u001b[43mreloader_interval\u001b[49m\u001b[43m,\u001b[49m\n\u001b[0;32m   1120\u001b[0m \u001b[43m        \u001b[49m\u001b[43mreloader_type\u001b[49m\u001b[38;5;241;43m=\u001b[39;49m\u001b[43mreloader_type\u001b[49m\u001b[43m,\u001b[49m\n\u001b[0;32m   1121\u001b[0m \u001b[43m    \u001b[49m\u001b[43m)\u001b[49m\n\u001b[0;32m   1122\u001b[0m \u001b[38;5;28;01mfinally\u001b[39;00m:\n\u001b[0;32m   1123\u001b[0m     srv\u001b[38;5;241m.\u001b[39mserver_close()\n",
      "File \u001b[1;32md:\\Repositories\\AI_MinTic_Course\\semantics\\lib\\site-packages\\werkzeug\\_reloader.py:469\u001b[0m, in \u001b[0;36mrun_with_reloader\u001b[1;34m(main_func, extra_files, exclude_patterns, interval, reloader_type)\u001b[0m\n\u001b[0;32m    467\u001b[0m             reloader\u001b[38;5;241m.\u001b[39mrun()\n\u001b[0;32m    468\u001b[0m     \u001b[38;5;28;01melse\u001b[39;00m:\n\u001b[1;32m--> 469\u001b[0m         \u001b[43msys\u001b[49m\u001b[38;5;241;43m.\u001b[39;49m\u001b[43mexit\u001b[49m\u001b[43m(\u001b[49m\u001b[43mreloader\u001b[49m\u001b[38;5;241;43m.\u001b[39;49m\u001b[43mrestart_with_reloader\u001b[49m\u001b[43m(\u001b[49m\u001b[43m)\u001b[49m\u001b[43m)\u001b[49m\n\u001b[0;32m    470\u001b[0m \u001b[38;5;28;01mexcept\u001b[39;00m \u001b[38;5;167;01mKeyboardInterrupt\u001b[39;00m:\n\u001b[0;32m    471\u001b[0m     \u001b[38;5;28;01mpass\u001b[39;00m\n",
      "\u001b[1;31mSystemExit\u001b[0m: 1"
     ]
    }
   ],
   "source": [
    "%tb"
   ]
  },
  {
   "cell_type": "code",
   "execution_count": null,
   "id": "e30b2cff-3b27-4cd8-9d77-fa401ac73620",
   "metadata": {},
   "outputs": [],
   "source": []
  }
 ],
 "metadata": {
  "kernelspec": {
   "display_name": "semantics",
   "language": "python",
   "name": "python3"
  },
  "language_info": {
   "codemirror_mode": {
    "name": "ipython",
    "version": 3
   },
   "file_extension": ".py",
   "mimetype": "text/x-python",
   "name": "python",
   "nbconvert_exporter": "python",
   "pygments_lexer": "ipython3",
   "version": "3.10.9"
  }
 },
 "nbformat": 4,
 "nbformat_minor": 5
}
