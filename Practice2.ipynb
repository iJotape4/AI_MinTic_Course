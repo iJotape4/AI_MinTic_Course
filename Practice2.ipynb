{
 "cells": [
  {
   "cell_type": "code",
   "execution_count": 1,
   "id": "09c75757-afa2-4051-97fe-c6f827439692",
   "metadata": {},
   "outputs": [
    {
     "name": "stderr",
     "output_type": "stream",
     "text": [
      "[nltk_data] Downloading package vader_lexicon to\n",
      "[nltk_data]     C:\\Users\\Personal\\AppData\\Roaming\\nltk_data...\n",
      "[nltk_data]   Package vader_lexicon is already up-to-date!\n"
     ]
    },
    {
     "data": {
      "text/plain": [
       "True"
      ]
     },
     "execution_count": 1,
     "metadata": {},
     "output_type": "execute_result"
    }
   ],
   "source": [
    "from nltk.sentiment import SentimentIntensityAnalyzer\n",
    "from googletrans import Translator\n",
    "\n",
    "import nltk\n",
    "\n",
    "nltk.download('vader_lexicon')"
   ]
  },
  {
   "cell_type": "code",
   "execution_count": 2,
   "id": "98753dd5-d54c-4ddb-9189-9606c7d14812",
   "metadata": {},
   "outputs": [],
   "source": [
    "sia = SentimentIntensityAnalyzer()\n",
    "translator = Translator()"
   ]
  },
  {
   "cell_type": "code",
   "execution_count": 3,
   "id": "fa6aec03-c58b-4b58-896d-a54e363026fc",
   "metadata": {},
   "outputs": [],
   "source": [
    "def analyze_sentiment_spanish(text):\n",
    "    translation = translator.translate(text, src='es', dest= 'en')\n",
    "    sentiment = sia.polarity_scores(translation.text)\n",
    "\n",
    "    return sentiment, translation.text"
   ]
  },
  {
   "cell_type": "code",
   "execution_count": 4,
   "id": "3219ca0f-b102-4bb4-9c78-0458945d502c",
   "metadata": {},
   "outputs": [],
   "source": [
    "def interpret_feeling(sentiment):\n",
    "    compound = sentiment['compound']\n",
    "\n",
    "    emotion = \"😐 Neutral\"\n",
    "    \n",
    "    if compound >= 0.05:\n",
    "        emotion = \"😃 Positive\"\n",
    "    elif compound <= -0.05:\n",
    "        emotion = \"😒 Negative\"\n",
    "\n",
    "    return emotion"
   ]
  },
  {
   "cell_type": "code",
   "execution_count": 5,
   "id": "6ed61622-b901-4db6-9767-5abcbe6ae7c4",
   "metadata": {},
   "outputs": [],
   "source": [
    "def output_analysis(text_es, result, translation):\n",
    "    print(\"\\n📊 RESULTADO DEL ANÁLISIS:\")\n",
    "    print(\"=\" * 40)\n",
    "    print(f\"Texto original: {text_es}\")\n",
    "    print(f\"Texto traducido: {translation}\")\n",
    "    print(f\"🔍 Negativo: {result['neg'] * 100:.1f}%\")\n",
    "    print(f\"🔍 Neutral: {result['neu'] * 100:.1f}%\")  \n",
    "    print(f\"🔍 Positivo: {result['pos'] * 100:.1f}%\")\n",
    "    print(f\"🎯 Puntuación compuesta: {result['compound']:.4f}\")\n",
    "    print(f\"💡 Sentimiento: {interpret_feeling}\")\n",
    "    print(\"=\" * 40)"
   ]
  },
  {
   "cell_type": "code",
   "execution_count": 6,
   "id": "44aedc85-fa93-459f-aba8-fac569fec7cd",
   "metadata": {},
   "outputs": [
    {
     "name": "stdout",
     "output_type": "stream",
     "text": [
      "\n",
      "📊 RESULTADO DEL ANÁLISIS:\n",
      "========================================\n",
      "Texto original: !Me encanta este día! El sol está brillando y me siento muy feliz 😊\n",
      "Texto traducido: I love this day! The sun is shining and I feel very happy 😊\n",
      "🔍 Negativo: 0.0%\n",
      "🔍 Neutral: 51.5%\n",
      "🔍 Positivo: 48.5%\n",
      "🎯 Puntuación compuesta: 0.8585\n",
      "💡 Sentimiento: <function interpret_feeling at 0x000002497FAB8DC0>\n",
      "========================================\n"
     ]
    }
   ],
   "source": [
    "text_es = \"!Me encanta este día! El sol está brillando y me siento muy feliz 😊\"\n",
    "result, translation = analyze_sentiment_spanish(text_es)\n",
    "\n",
    "output_analysis(text_es, result, translation)"
   ]
  },
  {
   "cell_type": "code",
   "execution_count": null,
   "id": "579ff4bc-2a4b-49e1-a617-485a81b2b110",
   "metadata": {},
   "outputs": [],
   "source": []
  },
  {
   "cell_type": "code",
   "execution_count": null,
   "id": "e30b2cff-3b27-4cd8-9d77-fa401ac73620",
   "metadata": {},
   "outputs": [],
   "source": []
  }
 ],
 "metadata": {
  "kernelspec": {
   "display_name": "Semantics",
   "language": "python",
   "name": "myenv"
  },
  "language_info": {
   "codemirror_mode": {
    "name": "ipython",
    "version": 3
   },
   "file_extension": ".py",
   "mimetype": "text/x-python",
   "name": "python",
   "nbconvert_exporter": "python",
   "pygments_lexer": "ipython3",
   "version": "3.10.9"
  }
 },
 "nbformat": 4,
 "nbformat_minor": 5
}
